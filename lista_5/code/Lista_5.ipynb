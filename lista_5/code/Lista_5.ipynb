{
 "cells": [
  {
   "cell_type": "markdown",
   "metadata": {},
   "source": [
    "# Lista 5"
   ]
  },
  {
   "cell_type": "code",
   "execution_count": 263,
   "metadata": {},
   "outputs": [],
   "source": [
    "import matplotlib.pyplot as plt\n",
    "import numpy as np\n",
    "from IPython.display import Image\n",
    "from scipy import signal\n",
    "\n",
    "\n",
    "import matplotlib.style as style \n",
    "\n",
    "plt.rcParams['font.size'] = 20\n",
    "plt.rcParams['axes.labelsize'] = 20\n",
    "plt.rcParams['axes.labelweight'] = 'bold'\n",
    "plt.rcParams['xtick.labelsize'] = 15\n",
    "plt.rcParams['ytick.labelsize'] = 15\n",
    "plt.rcParams['legend.fontsize'] = 20\n",
    "plt.rcParams['figure.titlesize'] = 12\n",
    "plt.rcParams['figure.figsize'] = 10, 8\n",
    "plt.rcParams['text.usetex'] = True"
   ]
  },
  {
   "cell_type": "markdown",
   "metadata": {},
   "source": [
    "# O LMS"
   ]
  },
  {
   "cell_type": "markdown",
   "metadata": {},
   "source": [
    "$\\mathbf{w}(k+1) = \\mathbf{w}(k) + 2\\mu e(k)\\mathbf{x}(k)$"
   ]
  },
  {
   "cell_type": "markdown",
   "metadata": {},
   "source": []
  },
  {
   "cell_type": "markdown",
   "metadata": {},
   "source": [
    "LMS algorithm\n",
    "    - Inicialization\n",
    "$\\mathbf{x}(0) = \\mathbf{w}(0) = [0 0 ... 0]^{T}$\n",
    "    - Do for k >= 0\n",
    "1. $e(k) = d(k) - \\mathbf{x}^{T}(k)\\mathbf{w}(k)$\n",
    "\n",
    "2. $\\mathbf{w}(k+1) = \\mathbf{w}(k) + 2\\mu e(k)\\mathbf{x}(k)$"
   ]
  },
  {
   "cell_type": "markdown",
   "metadata": {},
   "source": []
  },
  {
   "cell_type": "code",
   "execution_count": 158,
   "metadata": {},
   "outputs": [],
   "source": []
  },
  {
   "cell_type": "code",
   "execution_count": 159,
   "metadata": {},
   "outputs": [
    {
     "data": {
      "text/plain": [
       "array([[0],\n",
       "       [0],\n",
       "       [0]])"
      ]
     },
     "execution_count": 159,
     "metadata": {},
     "output_type": "execute_result"
    }
   ],
   "source": [
    "x"
   ]
  },
  {
   "cell_type": "code",
   "execution_count": 170,
   "metadata": {},
   "outputs": [
    {
     "data": {
      "text/plain": [
       "array([[0.],\n",
       "       [0.],\n",
       "       [0.]])"
      ]
     },
     "execution_count": 170,
     "metadata": {},
     "output_type": "execute_result"
    }
   ],
   "source": [
    "w_atual"
   ]
  },
  {
   "cell_type": "code",
   "execution_count": 187,
   "metadata": {},
   "outputs": [
    {
     "data": {
      "text/plain": [
       "array([[-0.],\n",
       "       [ 0.],\n",
       "       [ 0.]])"
      ]
     },
     "execution_count": 187,
     "metadata": {},
     "output_type": "execute_result"
    }
   ],
   "source": [
    "x*w_atual"
   ]
  },
  {
   "cell_type": "code",
   "execution_count": 377,
   "metadata": {},
   "outputs": [],
   "source": [
    "def error_plot(error_list, is_db=True):\n",
    "    \n",
    "    error_list = np.mean(error_list, axis=0) \n",
    "    eps = float(10**-36)\n",
    "    \n",
    "    mse = error_list**2\n",
    "    \n",
    "    if is_db is True:\n",
    "        x_plt = 10 * np.log10(mse + eps)\n",
    "    else:\n",
    "        x_plt = mse\n",
    "\n",
    "    plt.plot(range(len(mse)), x_plt)\n",
    "    plt.ylabel(r'MSE~(dB)')\n",
    "    plt.xlabel(r'Iteração')\n",
    "    plt.grid(True)\n",
    "    plt.show()\n"
   ]
  },
  {
   "cell_type": "markdown",
   "metadata": {},
   "source": [
    "### Nesse caso estou considerando que eu acertei exatamente o número de coeficientes do filtro\n"
   ]
  },
  {
   "cell_type": "code",
   "execution_count": 382,
   "metadata": {},
   "outputs": [],
   "source": [
    "# Sistema que eu quero descobrir\n",
    "h = np.array([[-2], [0.25], [0.25]])\n",
    "\n",
    "\n",
    "\n",
    "# Número de iterações\n",
    "n_iteracoes = 2000\n",
    "# Número de Monte Carlo\n",
    "n_mc = 100\n",
    "\n",
    "passo = 0.05\n",
    "for mc in range(n_mc):\n",
    "    \n",
    "    # Inicializações\n",
    "    erros = np.array([])\n",
    "    w_atual = np.array([[0], [0], [0]])\n",
    "    x = np.array([[0], [0], [0]])\n",
    "    # Ruído com média zero\n",
    "    ruido = np.random.random(n_iteracoes)\n",
    "    ruido = ruido - ruido.mean()\n",
    "    \n",
    "    for ii in range(n_iteracoes):\n",
    "        desejado = np.dot(x.T, h) + 0.1*ruido[ii]\n",
    "        saida = np.dot(x.T, w_atual) \n",
    "        erros = np.append(erros, [desejado - saida])\n",
    "        \n",
    "        \n",
    "\n",
    "\n",
    "        # O LMS\n",
    "        w_prox = w_atual + 2*passo*erros[ii]*x\n",
    "\n",
    "        # Atualiza o valor dos coeficientes do filtro\n",
    "        w_atual = w_prox\n",
    "\n",
    "        #Atualiza o x (shifta o que tem e coloca um valor novo no final)\n",
    "        x = np.roll(x, shift=-1)\n",
    "        x = np.append(arr=x[:-1], values=ruido[ii])\n",
    "        x = np.reshape(x, (len(x), 1))  \n",
    "    if mc == 0:\n",
    "        erros_mc = erros\n",
    "    else:\n",
    "        erros_mc = np.vstack((erros_mc, erros))\n",
    "    \n",
    "        "
   ]
  },
  {
   "cell_type": "code",
   "execution_count": 383,
   "metadata": {},
   "outputs": [
    {
     "data": {
      "image/png": "[encoded data removed]",
      "text/plain": [
       "<Figure size 720x576 with 1 Axes>"
      ]
     },
     "metadata": {
      "needs_background": "light"
     },
     "output_type": "display_data"
    }
   ],
   "source": [
    "error_plot(erros_mc, is_db=True)"
   ]
  },
  {
   "cell_type": "code",
   "execution_count": 384,
   "metadata": {},
   "outputs": [
    {
     "data": {
      "text/plain": [
       "array([[-2.00460188],\n",
       "       [ 0.24633547],\n",
       "       [ 0.24328723]])"
      ]
     },
     "execution_count": 384,
     "metadata": {},
     "output_type": "execute_result"
    }
   ],
   "source": [
    "w_prox"
   ]
  },
  {
   "cell_type": "markdown",
   "metadata": {},
   "source": [
    "### Submodelado"
   ]
  },
  {
   "cell_type": "code",
   "execution_count": 404,
   "metadata": {},
   "outputs": [],
   "source": [
    "# Sistema que eu quero descobrir\n",
    "h = np.array([[-2], [0.25], [0.25], [0]])\n",
    "\n",
    "\n",
    "\n",
    "# Número de iterações\n",
    "n_iteracoes = 100000\n",
    "# Número de Monte Carlo\n",
    "n_mc = 1\n",
    "\n",
    "passo = 0.05\n",
    "for mc in range(n_mc):\n",
    "    \n",
    "    # Inicializações\n",
    "    erros = np.array([])\n",
    "    # 3 coef no FA\n",
    "    w_atual = np.array([[0], [0], [0]])\n",
    "    x_fa = np.array([[0], [0], [0]])\n",
    "    \n",
    "    # 4 coef no H\n",
    "    x_h = np.array([[0], [0], [0], [0]])\n",
    "    \n",
    "    # Ruído com média zero\n",
    "    ruido = np.random.random(n_iteracoes)\n",
    "    ruido = ruido - ruido.mean()\n",
    "    \n",
    "    for ii in range(n_iteracoes):\n",
    "        desejado = np.dot(x_h.T, h) #+ 0.1*ruido[ii]\n",
    "        saida = np.dot(x_fa.T, w_atual) \n",
    "        erros = np.append(erros, [desejado - saida])\n",
    "\n",
    "        # O LMS\n",
    "        w_prox = w_atual + 2*passo*erros[ii]*x_fa\n",
    "\n",
    "        # Atualiza o valor dos coeficientes do filtro\n",
    "        w_atual = w_prox\n",
    "\n",
    "        #Atualiza o x (shifta o que tem e coloca um valor novo no final)\n",
    "        x_fa = np.roll(x_fa, shift=-1)\n",
    "        x_fa = np.append(arr=x_fa[:-1], values=ruido[ii])\n",
    "        x_fa = np.reshape(x_fa, (len(x_fa), 1))  \n",
    "\n",
    "        x_h = np.roll(x_h, shift=-1)\n",
    "        x_h = np.append(arr=x_h[:-1], values=ruido[ii])\n",
    "        x_h = np.reshape(x_h, (len(x_h), 1))  \n",
    "    if mc == 0:\n",
    "        erros_mc = erros\n",
    "    else:\n",
    "        erros_mc = np.vstack((erros_mc, erros))\n",
    "    \n",
    "        "
   ]
  },
  {
   "cell_type": "code",
   "execution_count": 405,
   "metadata": {},
   "outputs": [
    {
     "data": {
      "text/plain": [
       "array([[0.24512118],\n",
       "       [0.3761796 ],\n",
       "       [0.03654075]])"
      ]
     },
     "execution_count": 405,
     "metadata": {},
     "output_type": "execute_result"
    }
   ],
   "source": [
    "w_prox"
   ]
  },
  {
   "cell_type": "markdown",
   "metadata": {},
   "source": [
    "## Supramodelo"
   ]
  },
  {
   "cell_type": "code",
   "execution_count": 406,
   "metadata": {},
   "outputs": [],
   "source": [
    "# Sistema que eu quero descobrir\n",
    "h = np.array([[-2], [0.25], [0.25], [0]])\n",
    "\n",
    "\n",
    "\n",
    "# Número de iterações\n",
    "n_iteracoes = 100000\n",
    "# Número de Monte Carlo\n",
    "n_mc = 1\n",
    "\n",
    "passo = 0.05\n",
    "for mc in range(n_mc):\n",
    "    \n",
    "    # Inicializações\n",
    "    erros = np.array([])\n",
    "    # 6 coef no FA\n",
    "    w_atual = np.array([[0], [0], [0], [0], [0], [0]])\n",
    "    x_fa = np.array([[0], [0], [0], [0], [0], [0]])\n",
    "    \n",
    "    # 4 coef no H\n",
    "    x_h = np.array([[0], [0], [0], [0]])\n",
    "    \n",
    "    # Ruído com média zero\n",
    "    ruido = np.random.random(n_iteracoes)\n",
    "    ruido = ruido - ruido.mean()\n",
    "    \n",
    "    for ii in range(n_iteracoes):\n",
    "        desejado = np.dot(x_h.T, h) #+ 0.1*ruido[ii]\n",
    "        saida = np.dot(x_fa.T, w_atual) \n",
    "        erros = np.append(erros, [desejado - saida])\n",
    "\n",
    "        # O LMS\n",
    "        w_prox = w_atual + 2*passo*erros[ii]*x_fa\n",
    "\n",
    "        # Atualiza o valor dos coeficientes do filtro\n",
    "        w_atual = w_prox\n",
    "\n",
    "        #Atualiza o x (shifta o que tem e coloca um valor novo no final)\n",
    "        x_fa = np.roll(x_fa, shift=-1)\n",
    "        x_fa = np.append(arr=x_fa[:-1], values=ruido[ii])\n",
    "        x_fa = np.reshape(x_fa, (len(x_fa), 1))  \n",
    "\n",
    "        x_h = np.roll(x_h, shift=-1)\n",
    "        x_h = np.append(arr=x_h[:-1], values=ruido[ii])\n",
    "        x_h = np.reshape(x_h, (len(x_h), 1))  \n",
    "    if mc == 0:\n",
    "        erros_mc = erros\n",
    "    else:\n",
    "        erros_mc = np.vstack((erros_mc, erros))"
   ]
  },
  {
   "cell_type": "code",
   "execution_count": 407,
   "metadata": {},
   "outputs": [
    {
     "data": {
      "text/plain": [
       "array([[ 1.68118973e-16],\n",
       "       [-1.44570279e-16],\n",
       "       [-2.00000000e+00],\n",
       "       [ 2.50000000e-01],\n",
       "       [ 2.50000000e-01],\n",
       "       [-3.20960020e-17]])"
      ]
     },
     "execution_count": 407,
     "metadata": {},
     "output_type": "execute_result"
    }
   ],
   "source": [
    "w_prox"
   ]
  },
  {
   "cell_type": "code",
   "execution_count": null,
   "metadata": {},
   "outputs": [],
   "source": []
  }
 ],
 "metadata": {
  "kernelspec": {
   "display_name": "Python 3",
   "language": "python",
   "name": "python3"
  },
  "language_info": {
   "codemirror_mode": {
    "name": "ipython",
    "version": 3
   },
   "file_extension": ".py",
   "mimetype": "text/x-python",
   "name": "python",
   "nbconvert_exporter": "python",
   "pygments_lexer": "ipython3",
   "version": "3.7.3"
  }
 },
 "nbformat": 4,
 "nbformat_minor": 2
}
